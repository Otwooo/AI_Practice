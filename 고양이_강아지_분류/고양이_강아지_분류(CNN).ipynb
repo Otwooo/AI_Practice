{
  "cells": [
    {
      "cell_type": "markdown",
      "metadata": {
        "id": "view-in-github",
        "colab_type": "text"
      },
      "source": [
        "<a href=\"https://colab.research.google.com/github/Otwooo/AI_Practice/blob/main/%EA%B3%A0%EC%96%91%EC%9D%B4_%EA%B0%95%EC%95%84%EC%A7%80_%EB%B6%84%EB%A5%98/%EA%B3%A0%EC%96%91%EC%9D%B4_%EA%B0%95%EC%95%84%EC%A7%80_%EB%B6%84%EB%A5%98(CNN).ipynb\" target=\"_parent\"><img src=\"https://colab.research.google.com/assets/colab-badge.svg\" alt=\"Open In Colab\"/></a>"
      ]
    },
    {
      "cell_type": "markdown",
      "metadata": {
        "id": "L-uJODuMLkHM"
      },
      "source": [
        "#**고양이 강아지 구분하기**\n",
        "CNN을 이용하여 고양이 강아지 구분하기"
      ]
    },
    {
      "cell_type": "markdown",
      "metadata": {
        "id": "gHcz-jtfLsFp"
      },
      "source": [
        "### **1. 라이브러리 불러오기 & 데이터 불러오기**"
      ]
    },
    {
      "cell_type": "code",
      "execution_count": 1,
      "metadata": {
        "id": "fx6D0jFFHl0n"
      },
      "outputs": [],
      "source": [
        "import os\n",
        "import tensorflow as tf\n",
        "import shutil\n",
        "import matplotlib.pyplot as plt"
      ]
    },
    {
      "cell_type": "code",
      "execution_count": 2,
      "metadata": {
        "colab": {
          "base_uri": "https://localhost:8080/"
        },
        "id": "xH5cUVzdQAAH",
        "outputId": "166625e9-6a7c-4d6d-d274-bd8538118e01"
      },
      "outputs": [
        {
          "output_type": "stream",
          "name": "stdout",
          "text": [
            "Downloading dogs-vs-cats.zip to /content\n",
            "100% 811M/812M [00:09<00:00, 122MB/s]\n",
            "100% 812M/812M [00:09<00:00, 93.2MB/s]\n"
          ]
        }
      ],
      "source": [
        "os.environ['KAGGLE_CONFIG_DIR'] = '/content/drive/MyDrive/'\n",
        "\n",
        "!kaggle competitions download -c dogs-vs-cats"
      ]
    },
    {
      "cell_type": "markdown",
      "metadata": {
        "id": "x5HYk3YwLuus"
      },
      "source": [
        "### **2. 데이터 전처리하기**"
      ]
    },
    {
      "cell_type": "markdown",
      "metadata": {
        "id": "gMV_yQlyL1ho"
      },
      "source": [
        "#### **2.1 데이터 압축풀기 & 파일 이동하기**"
      ]
    },
    {
      "cell_type": "code",
      "execution_count": 3,
      "metadata": {
        "id": "LAKID_F8IU0W"
      },
      "outputs": [],
      "source": [
        "!unzip -q dogs-vs-cats.zip -d ."
      ]
    },
    {
      "cell_type": "code",
      "execution_count": 4,
      "metadata": {
        "id": "nVc5j_xWJGV4"
      },
      "outputs": [],
      "source": [
        "!unzip -q train.zip -d ."
      ]
    },
    {
      "cell_type": "code",
      "execution_count": 5,
      "metadata": {
        "id": "lzCdvvZ2KgI5"
      },
      "outputs": [],
      "source": [
        "os.mkdir('/content/dataset')\n",
        "os.mkdir('/content/dataset/cat')\n",
        "os.mkdir('/content/dataset/dog')\n",
        "\n",
        "for i in os.listdir('/content/train/'):\n",
        "  if 'cat' in i:\n",
        "    shutil.copy('/content/train/' + i, '/content/dataset/cat/' + i)\n",
        "  if 'dog' in i:\n",
        "    shutil.copy('/content/train/' + i, '/content/dataset/dog/' + i)"
      ]
    },
    {
      "cell_type": "markdown",
      "metadata": {
        "id": "nLMRA9gyOmR0"
      },
      "source": [
        "파이썬 문법으로 폴더를 안 말들어주면 오류가 발생할 수 있다."
      ]
    },
    {
      "cell_type": "markdown",
      "metadata": {
        "id": "NUdEMpheMLnY"
      },
      "source": [
        "#### **2.2 데이터 전처리**"
      ]
    },
    {
      "cell_type": "code",
      "execution_count": 6,
      "metadata": {
        "colab": {
          "base_uri": "https://localhost:8080/"
        },
        "id": "5zIMxwPzJvHm",
        "outputId": "023cd2f3-5d05-43c2-9946-46e429c615c2"
      },
      "outputs": [
        {
          "output_type": "stream",
          "name": "stdout",
          "text": [
            "Found 25000 files belonging to 2 classes.\n",
            "Using 20000 files for training.\n",
            "Found 25000 files belonging to 2 classes.\n",
            "Using 5000 files for validation.\n"
          ]
        }
      ],
      "source": [
        "train_ds = tf.keras.preprocessing.image_dataset_from_directory(\n",
        "    '/content/dataset/',\n",
        "    image_size = (64, 64),\n",
        "    batch_size = 64,\n",
        "    subset = 'training', \n",
        "    validation_split=0.2,\n",
        "    seed = 1234\n",
        ")\n",
        "\n",
        "val_ds = tf.keras.preprocessing.image_dataset_from_directory(\n",
        "    '/content/dataset/',\n",
        "    image_size = (64, 64),\n",
        "    batch_size = 64,\n",
        "    subset = 'validation', \n",
        "    validation_split=0.2,\n",
        "    seed = 1234\n",
        ")"
      ]
    },
    {
      "cell_type": "markdown",
      "metadata": {
        "id": "eXzSX67vMZLm"
      },
      "source": [
        "`train_ds = tf.keras.preprocessing.image_dataset_from_directory`\n",
        "- 폴더 경로\n",
        "- 이미지를 어떤 사이즈로 압축할지\n",
        "- 모든 이미즈를 한번에 넣지 말고 64장 씩\n",
        "- 20% 데이터를 validation으로 쪼개겠다."
      ]
    },
    {
      "cell_type": "code",
      "execution_count": 7,
      "metadata": {
        "colab": {
          "base_uri": "https://localhost:8080/"
        },
        "id": "_ypwWyuGNr1x",
        "outputId": "d4c3aa2b-ec01-4bcd-ace4-7fe98eb0e206"
      },
      "outputs": [
        {
          "output_type": "stream",
          "name": "stdout",
          "text": [
            "<BatchDataset element_spec=(TensorSpec(shape=(None, 64, 64, 3), dtype=tf.float32, name=None), TensorSpec(shape=(None,), dtype=tf.int32, name=None))>\n"
          ]
        }
      ],
      "source": [
        "print(train_ds)"
      ]
    },
    {
      "cell_type": "code",
      "source": [
        "for i, 정답 in train_ds.take(1):\n",
        "  # print(i)\n",
        "  # print(정답)\n",
        "  plt.imshow(i[0].numpy().astype('uint8'))\n",
        "  plt.show()"
      ],
      "metadata": {
        "colab": {
          "base_uri": "https://localhost:8080/",
          "height": 268
        },
        "id": "dP5Fy-IEEX46",
        "outputId": "6f78719a-c3f1-4f3b-bd54-5a8af96a0b06"
      },
      "execution_count": 8,
      "outputs": [
        {
          "output_type": "display_data",
          "data": {
            "text/plain": [
              "<Figure size 432x288 with 1 Axes>"
            ],
            "image/png": "[encoded data removed]"
          },
          "metadata": {
            "needs_background": "light"
          }
        }
      ]
    },
    {
      "cell_type": "code",
      "execution_count": 9,
      "metadata": {
        "id": "e-84lnkkSh81"
      },
      "outputs": [],
      "source": [
        "def 전처리함수(i, 정답):\n",
        "  i = tf.cast(i/255.0, tf.float32)\n",
        "  return i, 정답\n",
        "\n",
        "train_ds = train_ds.map(전처리함수)\n",
        "val_ds = val_ds.map(전처리함수)"
      ]
    },
    {
      "cell_type": "markdown",
      "metadata": {
        "id": "sQHBvmwoTIIN"
      },
      "source": [
        "0 ~ 255의 숫자를 0 ~ 1로 압축시켜준다. 이 과정을 거치면 연산을 좀 더 빠르게 하고 정확도 올라간다."
      ]
    },
    {
      "cell_type": "code",
      "execution_count": 10,
      "metadata": {
        "colab": {
          "base_uri": "https://localhost:8080/",
          "height": 268
        },
        "id": "xYAyAwY9PcC7",
        "outputId": "724ee681-2808-43cd-a748-cf6e9bfaaacf"
      },
      "outputs": [
        {
          "output_type": "display_data",
          "data": {
            "text/plain": [
              "<Figure size 432x288 with 1 Axes>"
            ],
            "image/png": "[encoded data removed]"
          },
          "metadata": {
            "needs_background": "light"
          }
        }
      ],
      "source": [
        "for i, 정답 in train_ds.take(1):\n",
        "  # print(i)\n",
        "  # print(정답)\n",
        "  plt.imshow(i[0].numpy().astype('uint8'))\n",
        "  plt.show()"
      ]
    },
    {
      "cell_type": "markdown",
      "metadata": {
        "id": "Kf-KU7iGYDVD"
      },
      "source": [
        "사진은 0 ~ 255 숫자를 0~1 사이의 숫자로 압축시켰기 때문에 까맣게 보인다."
      ]
    },
    {
      "cell_type": "markdown",
      "metadata": {
        "id": "0QQ2l_tDQeKN"
      },
      "source": [
        "### **3. 모델 제작하기**"
      ]
    },
    {
      "cell_type": "markdown",
      "metadata": {
        "id": "tn6lR5BJQeyU"
      },
      "source": [
        "#### **3.1 모델 만들기**"
      ]
    },
    {
      "cell_type": "code",
      "execution_count": null,
      "metadata": {
        "id": "dU6kmQIIQPzd"
      },
      "outputs": [],
      "source": [
        "model = tf.keras.Sequential([\n",
        "\n",
        "    tf.keras.layers.Conv2D(32, (3, 3), padding = 'same', activation = 'relu', input_shape=(64, 64, 3)),\n",
        "    tf.keras.layers.MaxPooling2D((2, 2)),\n",
        "    tf.keras.layers.Conv2D(64, (3, 3), padding = 'same', activation = 'relu'), \n",
        "    tf.keras.layers.MaxPooling2D((2, 2)),\n",
        "    tf.keras.layers.Dropout(0.2),\n",
        "    tf.keras.layers.Conv2D(128, (3, 3), padding = 'same', activation = 'relu'), \n",
        "    tf.keras.layers.MaxPooling2D((2, 2)),    \n",
        "    tf.keras.layers.Flatten(),\n",
        "    tf.keras.layers.Dense(64, activation='relu'),    \n",
        "    tf.keras.layers.Dense(1, activation='sigmoid')                             \n",
        "])"
      ]
    },
    {
      "cell_type": "markdown",
      "metadata": {
        "id": "s43Bljz1RQdX"
      },
      "source": [
        "칼라 사진이기 때문에 input shape 마지막 숫자가 3이다.\n",
        "\n",
        "`tf.keras.layers.Dropout(0,2),` 윗 레이어의 20% 노드를 제거하는 레이어로 오버피팅을 방지할 수 있다."
      ]
    },
    {
      "cell_type": "markdown",
      "metadata": {
        "id": "voRlGVurQoEX"
      },
      "source": [
        "#### **3.2 모델 컴파일하기**"
      ]
    },
    {
      "cell_type": "code",
      "execution_count": null,
      "metadata": {
        "id": "gYUmHqtpQoUy"
      },
      "outputs": [],
      "source": [
        "model.compile(loss = 'binary_crossentropy', optimizer = 'adam', metrics = ['accuracy'])"
      ]
    },
    {
      "cell_type": "code",
      "execution_count": null,
      "metadata": {
        "colab": {
          "base_uri": "https://localhost:8080/"
        },
        "id": "6MNtYeCJQ2Pg",
        "outputId": "f2fe1955-bb54-410c-95fd-befc5c25be93"
      },
      "outputs": [
        {
          "name": "stdout",
          "output_type": "stream",
          "text": [
            "Model: \"sequential\"\n",
            "_________________________________________________________________\n",
            " Layer (type)                Output Shape              Param #   \n",
            "=================================================================\n",
            " conv2d (Conv2D)             (None, 64, 64, 32)        896       \n",
            "                                                                 \n",
            " max_pooling2d (MaxPooling2D  (None, 32, 32, 32)       0         \n",
            " )                                                               \n",
            "                                                                 \n",
            " conv2d_1 (Conv2D)           (None, 32, 32, 64)        18496     \n",
            "                                                                 \n",
            " max_pooling2d_1 (MaxPooling  (None, 16, 16, 64)       0         \n",
            " 2D)                                                             \n",
            "                                                                 \n",
            " dropout (Dropout)           (None, 16, 16, 64)        0         \n",
            "                                                                 \n",
            " conv2d_2 (Conv2D)           (None, 16, 16, 128)       73856     \n",
            "                                                                 \n",
            " max_pooling2d_2 (MaxPooling  (None, 8, 8, 128)        0         \n",
            " 2D)                                                             \n",
            "                                                                 \n",
            " flatten (Flatten)           (None, 8192)              0         \n",
            "                                                                 \n",
            " dense (Dense)               (None, 64)                524352    \n",
            "                                                                 \n",
            " dense_1 (Dense)             (None, 1)                 65        \n",
            "                                                                 \n",
            "=================================================================\n",
            "Total params: 617,665\n",
            "Trainable params: 617,665\n",
            "Non-trainable params: 0\n",
            "_________________________________________________________________\n"
          ]
        }
      ],
      "source": [
        "model.summary()"
      ]
    },
    {
      "cell_type": "markdown",
      "metadata": {
        "id": "iQRYuVGHQ6r-"
      },
      "source": [
        "### **4. 모델 학습시키기**"
      ]
    },
    {
      "cell_type": "code",
      "execution_count": null,
      "metadata": {
        "colab": {
          "background_save": true,
          "base_uri": "https://localhost:8080/"
        },
        "id": "1L-Vqqd9Que3",
        "outputId": "5afb0282-3419-4aad-ad03-ea768351b5b5"
      },
      "outputs": [
        {
          "name": "stdout",
          "output_type": "stream",
          "text": [
            "Epoch 1/5\n",
            "313/313 [==============================] - 210s 663ms/step - loss: 0.6143 - accuracy: 0.6505 - val_loss: 0.5892 - val_accuracy: 0.6900\n",
            "Epoch 2/5\n",
            "313/313 [==============================] - 197s 629ms/step - loss: 0.5018 - accuracy: 0.7575 - val_loss: 0.5151 - val_accuracy: 0.7576\n",
            "Epoch 3/5\n",
            "313/313 [==============================] - 199s 635ms/step - loss: 0.4387 - accuracy: 0.7995 - val_loss: 0.4101 - val_accuracy: 0.8158\n",
            "Epoch 4/5\n",
            "313/313 [==============================] - 197s 627ms/step - loss: 0.3917 - accuracy: 0.8239 - val_loss: 0.3872 - val_accuracy: 0.8318\n",
            "Epoch 5/5\n",
            "313/313 [==============================] - 194s 618ms/step - loss: 0.3473 - accuracy: 0.8461 - val_loss: 0.3666 - val_accuracy: 0.8344\n"
          ]
        },
        {
          "data": {
            "text/plain": [
              "<keras.callbacks.History at 0x7fc453dccfd0>"
            ]
          },
          "execution_count": null,
          "metadata": {},
          "output_type": "execute_result"
        }
      ],
      "source": [
        "model.fit(train_ds, validation_data = val_ds, epochs=5)"
      ]
    }
  ],
  "metadata": {
    "colab": {
      "provenance": [],
      "mount_file_id": "13DNP-bSa5lpbNW1uE5xWCXBXeFbLFpoU",
      "authorship_tag": "ABX9TyN7te7whFbrd3IiNSWAbgVH",
      "include_colab_link": true
    },
    "kernelspec": {
      "display_name": "Python 3",
      "name": "python3"
    },
    "language_info": {
      "name": "python"
    }
  },
  "nbformat": 4,
  "nbformat_minor": 0
}